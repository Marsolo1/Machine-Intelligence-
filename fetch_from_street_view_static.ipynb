{
 "cells": [
  {
   "cell_type": "code",
   "execution_count": null,
   "metadata": {},
   "outputs": [],
   "source": [
    "from dotenv import load_dotenv\n",
    "import os\n",
    "import requests\n",
    "import pathlib\n",
    "import numpy as np\n",
    "from PIL import Image\n",
    "import math"
   ]
  },
  {
   "cell_type": "code",
   "execution_count": null,
   "metadata": {},
   "outputs": [],
   "source": [
    "load_dotenv()"
   ]
  },
  {
   "cell_type": "code",
   "execution_count": null,
   "metadata": {},
   "outputs": [],
   "source": [
    "API_KEY = os.environ[\"GOOGLE_STREET_VIEW_STATIC_API_KEY\"]\n",
    "IMGSZ = 336 * 2"
   ]
  },
  {
   "cell_type": "code",
   "execution_count": null,
   "metadata": {},
   "outputs": [],
   "source": [
    "def make_url(latitude: float, longitude: float, imgsz: float = IMGSZ) -> str:\n",
    "    return f\"https://maps.googleapis.com/maps/api/streetview?size={imgsz}x{imgsz}&location={latitude},{longitude}&fov=80&heading=70&pitch=0&key={API_KEY}\""
   ]
  },
  {
   "cell_type": "code",
   "execution_count": null,
   "metadata": {},
   "outputs": [],
   "source": [
    "# box = [\n",
    "#     [35.559941, 139.639653],\n",
    "#     [35.559941, 139.657463],\n",
    "#     [35.539103, 139.657463],\n",
    "#     [35.539103, 139.639653],\n",
    "# ]\n",
    "MAX_LAT = 35.559941\n",
    "MIN_LAT = 35.539103\n",
    "LAT_DIFF = 0.0005\n",
    "\n",
    "MAX_LNG = 139.657463\n",
    "MIN_LNG = 139.639653\n",
    "LNG_DIFF = 0.0005\n",
    "\n",
    "LAT_NUM = (MAX_LAT - MIN_LAT) / LAT_DIFF\n",
    "LNG_NUM = (MAX_LNG - MIN_LNG) / LNG_DIFF"
   ]
  },
  {
   "cell_type": "code",
   "execution_count": null,
   "metadata": {},
   "outputs": [],
   "source": [
    "LAT_NUM, LNG_NUM"
   ]
  },
  {
   "cell_type": "code",
   "execution_count": null,
   "metadata": {},
   "outputs": [],
   "source": [
    "LAT_NUM = math.ceil(LAT_NUM)\n",
    "LNG_NUM = math.ceil(LNG_NUM)"
   ]
  },
  {
   "cell_type": "code",
   "execution_count": null,
   "metadata": {},
   "outputs": [],
   "source": [
    "LAT_NUM, LNG_NUM"
   ]
  },
  {
   "cell_type": "code",
   "execution_count": null,
   "metadata": {},
   "outputs": [],
   "source": [
    "# BASE_LAT = 35.55327299898534\n",
    "# BASE_LNG = 139.6465577046678\n",
    "\n",
    "# LNG_MAX_DIFF = 0.0001\n",
    "\n",
    "\n",
    "# LAT_MAX_DIFF = 0.001\n",
    "139.639524"
   ]
  },
  {
   "cell_type": "code",
   "execution_count": null,
   "metadata": {},
   "outputs": [],
   "source": [
    "DATA_DIR = pathlib.Path(\"data\") / \"coords\"\n",
    "DATA_DIR.mkdir(exist_ok=True)"
   ]
  },
  {
   "cell_type": "code",
   "execution_count": null,
   "metadata": {},
   "outputs": [],
   "source": [
    "cnt = 0\n",
    "for longitude in np.linspace(MIN_LNG, MAX_LNG, num= LNG_NUM, dtype=np.float64):\n",
    "    for latitude in np.linspace(MIN_LAT, MAX_LAT, num= LAT_NUM, dtype=np.float64):\n",
    "        print(latitude, longitude)\n",
    "        cnt += 1\n",
    "        name = f\"{latitude:.8f}-{longitude:.8f}\"\n",
    "        path = DATA_DIR / name\n",
    "        path.mkdir(exist_ok=True)\n",
    "        path = path / f\"{name}.png\"\n",
    "        if path.exists():\n",
    "            print(f\"{path.as_posix()} already exists so skipped it.\")\n",
    "            continue\n",
    "        url = make_url(latitude, longitude)\n",
    "        res = requests.get(url)\n",
    "        data = res.content\n",
    "        with path.open(mode=\"wb\") as f:\n",
    "            f.write(data)\n",
    "cnt"
   ]
  },
  {
   "cell_type": "code",
   "execution_count": null,
   "metadata": {},
   "outputs": [],
   "source": []
  }
 ],
 "metadata": {
  "kernelspec": {
   "display_name": ".venv",
   "language": "python",
   "name": "python3"
  },
  "language_info": {
   "codemirror_mode": {
    "name": "ipython",
    "version": 3
   },
   "file_extension": ".py",
   "mimetype": "text/x-python",
   "name": "python",
   "nbconvert_exporter": "python",
   "pygments_lexer": "ipython3",
   "version": "3.10.2"
  },
  "orig_nbformat": 4
 },
 "nbformat": 4,
 "nbformat_minor": 2
}
