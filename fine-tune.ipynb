{
 "cells": [
  {
   "cell_type": "code",
   "execution_count": 6,
   "metadata": {},
   "outputs": [],
   "source": [
    "from datasets import load_dataset\n",
    "import pathlib\n",
    "import shutil"
   ]
  },
  {
   "cell_type": "code",
   "execution_count": 7,
   "metadata": {},
   "outputs": [],
   "source": [
    "# def clean_ds_name():\n",
    "#     path = pathlib.Path(\"data/town/train/Minowacho\")\n",
    "#     for file in list(path.iterdir()):\n",
    "#         stem = file.stem.replace(\".\", \"\")\n",
    "#         new_file = file.with_stem(stem)\n",
    "#         file.rename(new_file.as_posix())"
   ]
  },
  {
   "cell_type": "code",
   "execution_count": 8,
   "metadata": {},
   "outputs": [],
   "source": [
    "import torch\n",
    "from torch.utils.data import Dataset\n",
    "from PIL import Image\n",
    "from torchvision import transforms\n",
    "from transformers import CLIPProcessor, AutoProcessor\n",
    "\n",
    "class CLIPDataset(Dataset):\n",
    "    def __init__(self, data, labels, transform=None):\n",
    "        self.data = data\n",
    "        self.labels = labels\n",
    "        self.transform = transform\n",
    "        self.processor = AutoProcessor.from_pretrained(\"geolocal/StreetCLIP\")\n",
    "\n",
    "    def __len__(self):\n",
    "        return len(self.data)\n",
    "\n",
    "    def __getitem__(self, idx):\n",
    "        item = self.data[idx]\n",
    "        text = item[\"text\"]\n",
    "        image = Image.open(item[\"image_path\"]).convert(\"RGB\")\n",
    "\n",
    "        if self.transform is not None:\n",
    "            image = self.transform(image)\n",
    "\n",
    "        inputs = self.processor(\n",
    "            text,\n",
    "            images=image,\n",
    "            return_tensors=\"pt\", \n",
    "            padding=\"max_length\",\n",
    "            max_length=len(\"Hiyoshihoncho\"),\n",
    "        )\n",
    "        inputs[\"input_ids\"].squeeze_(dim=0)\n",
    "        inputs[\"attention_mask\"].squeeze_(dim=0)\n",
    "        inputs[\"pixel_values\"].squeeze_(dim=0)\n",
    "        # print(\"input_ids\", inputs[\"input_ids\"].shape)\n",
    "        # print(\"attention_mask\", inputs[\"attention_mask\"].shape)\n",
    "        # print(\"pixel_values\", inputs[\"pixel_values\"].shape)        \n",
    "        return inputs\n",
    "\n",
    "# Transformations for the image\n",
    "transform = transforms.Compose([\n",
    "    transforms.Resize((336, 336)),\n",
    "    transforms.ToTensor(),\n",
    "    transforms.Normalize(\n",
    "        [\n",
    "            0.48145466,\n",
    "            0.4578275,\n",
    "            0.40821073\n",
    "        ],\n",
    "        [\n",
    "            0.26862954,\n",
    "            0.26130258,\n",
    "            0.27577711\n",
    "        ],\n",
    "    ),\n",
    "    transforms.ToPILImage(),\n",
    "])"
   ]
  },
  {
   "cell_type": "code",
   "execution_count": 9,
   "metadata": {},
   "outputs": [],
   "source": [
    "\n",
    "data = []\n",
    "labels = {}\n",
    "\n",
    "folders = list(pathlib.Path(\"./data/town/train/\").iterdir())\n",
    "\n",
    "for folder in folders:\n",
    "    folder_name = folder.name\n",
    "    if folder_name == \".DS_Store\":\n",
    "        continue\n",
    "    labels[folder_name] = len(labels)\n",
    "    for file in list(folder.iterdir()):\n",
    "        d = {\n",
    "            \"text\": folder_name,\n",
    "            \"image_path\": file\n",
    "        }\n",
    "        data.append(d)\n",
    "\n",
    "# Initialize the dataset\n",
    "dataset = CLIPDataset(data, labels, transform)\n"
   ]
  },
  {
   "cell_type": "code",
   "execution_count": 10,
   "metadata": {},
   "outputs": [
    {
     "name": "stderr",
     "output_type": "stream",
     "text": [
      "`text_config_dict` is provided which will be used to initialize `CLIPTextConfig`. The value `text_config[\"id2label\"]` will be overriden.\n",
      "/home/fummicc1/codes/classes/machine_intelligence/Machine-Intelligence-Team-8/.venv/lib/python3.10/site-packages/transformers/optimization.py:411: FutureWarning: This implementation of AdamW is deprecated and will be removed in a future version. Use the PyTorch implementation torch.optim.AdamW instead, or set `no_deprecation_warning=True` to disable this warning\n",
      "  warnings.warn(\n",
      "/home/fummicc1/codes/classes/machine_intelligence/Machine-Intelligence-Team-8/.venv/lib/python3.10/site-packages/torch/nn/parallel/_functions.py:68: UserWarning: Was asked to gather along dimension 0, but all input tensors were scalars; will instead unsqueeze and return a vector.\n",
      "  warnings.warn('Was asked to gather along dimension 0, but all '\n"
     ]
    },
    {
     "data": {
      "text/html": [
       "\n",
       "    <div>\n",
       "      \n",
       "      <progress value='320' max='320' style='width:300px; height:20px; vertical-align: middle;'></progress>\n",
       "      [320/320 08:12, Epoch 5/5]\n",
       "    </div>\n",
       "    <table border=\"1\" class=\"dataframe\">\n",
       "  <thead>\n",
       " <tr style=\"text-align: left;\">\n",
       "      <th>Step</th>\n",
       "      <th>Training Loss</th>\n",
       "    </tr>\n",
       "  </thead>\n",
       "  <tbody>\n",
       "  </tbody>\n",
       "</table><p>"
      ],
      "text/plain": [
       "<IPython.core.display.HTML object>"
      ]
     },
     "metadata": {},
     "output_type": "display_data"
    },
    {
     "data": {
      "text/plain": [
       "TrainOutput(global_step=320, training_loss=1.2149492263793946, metrics={'train_runtime': 502.926, 'train_samples_per_second': 10.101, 'train_steps_per_second': 0.636, 'total_flos': 154275594267600.0, 'train_loss': 1.2149492263793946, 'epoch': 5.0})"
      ]
     },
     "execution_count": 10,
     "metadata": {},
     "output_type": "execute_result"
    }
   ],
   "source": [
    "from transformers import AutoModel, TrainingArguments, Trainer\n",
    "\n",
    "# Load the model\n",
    "model = AutoModel.from_pretrained(\"geolocal/StreetCLIP\")\n",
    "model.train()\n",
    "\n",
    "# Specify the training arguments\n",
    "training_args = TrainingArguments(\n",
    "    output_dir=\"./results\",\n",
    "    num_train_epochs=5,\n",
    "    per_device_train_batch_size=4,\n",
    "    warmup_steps=500,\n",
    "    weight_decay=0.01,\n",
    "    learning_rate=1e-5,\n",
    "    logging_dir='./logs',\n",
    ")\n",
    "\n",
    "# Create the Trainer and train\n",
    "trainer = Trainer(\n",
    "    model=model,\n",
    "    args=training_args,\n",
    "    train_dataset=dataset,\n",
    ")\n",
    "\n",
    "# Train the model\n",
    "trainer.train()\n"
   ]
  },
  {
   "cell_type": "code",
   "execution_count": 13,
   "metadata": {},
   "outputs": [
    {
     "name": "stderr",
     "output_type": "stream",
     "text": [
      "pytorch_model.bin: 100%|██████████| 1.71G/1.71G [02:02<00:00, 13.9MB/s]\n",
      "Upload 1 LFS files: 100%|██████████| 1/1 [02:03<00:00, 123.28s/it]\n"
     ]
    },
    {
     "data": {
      "text/plain": [
       "CommitInfo(commit_url='https://huggingface.co/fummicc1/hiyoshi-street-clip/commit/47011a9558d01aadc47629057ca145e25f507107', commit_message='Upload model', commit_description='', oid='47011a9558d01aadc47629057ca145e25f507107', pr_url=None, pr_revision=None, pr_num=None)"
      ]
     },
     "execution_count": 13,
     "metadata": {},
     "output_type": "execute_result"
    }
   ],
   "source": [
    "trainer.save_model(\"./final-model\")\n",
    "model.push_to_hub('hiyoshi-street-clip')"
   ]
  }
 ],
 "metadata": {
  "kernelspec": {
   "display_name": ".venv",
   "language": "python",
   "name": "python3"
  },
  "language_info": {
   "codemirror_mode": {
    "name": "ipython",
    "version": 3
   },
   "file_extension": ".py",
   "mimetype": "text/x-python",
   "name": "python",
   "nbconvert_exporter": "python",
   "pygments_lexer": "ipython3",
   "version": "3.10.9"
  },
  "orig_nbformat": 4
 },
 "nbformat": 4,
 "nbformat_minor": 2
}
